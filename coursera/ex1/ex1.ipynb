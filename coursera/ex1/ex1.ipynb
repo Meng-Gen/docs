{
 "cells": [
  {
   "cell_type": "code",
   "execution_count": 1,
   "metadata": {
    "collapsed": true
   },
   "outputs": [],
   "source": [
    "import tensorflow as tf\n",
    "import numpy as np\n",
    "import matplotlib.pyplot as plt\n",
    "\n",
    "data_file = 'ex1data1.txt'\n",
    "data_frame = np.genfromtxt(data_file, delimiter=',')\n",
    "\n",
    "x_data = data_frame[:,0]\n",
    "y_data = data_frame[:,1]"
   ]
  },
  {
   "cell_type": "code",
   "execution_count": 2,
   "metadata": {
    "collapsed": true
   },
   "outputs": [],
   "source": [
    "X = tf.placeholder(\"float\")\n",
    "Y = tf.placeholder(\"float\")\n",
    "W = tf.Variable(tf.random_uniform([1], -1.0, 1.0))\n",
    "b = tf.Variable(tf.random_uniform([1], -1.0, 1.0))\n",
    "\n",
    "pred = tf.add(tf.multiply(X, W), b)\n",
    "cost = tf.reduce_sum(tf.pow(pred - Y, 2))/(2 * len(data_frame))\n",
    "optimizer = tf.train.GradientDescentOptimizer(0.01).minimize(cost)"
   ]
  },
  {
   "cell_type": "code",
   "execution_count": 4,
   "metadata": {},
   "outputs": [
    {
     "name": "stdout",
     "output_type": "stream",
     "text": [
      "step: 0, current cost: 6.93018, W: 0.618368, b: 0.685076\n",
      "step: 100, current cost: 5.88381, W: 0.76768, b: -0.0615739\n",
      "step: 200, current cost: 5.47944, W: 0.831137, b: -0.690255\n",
      "step: 300, current cost: 5.1973, W: 0.884051, b: -1.21448\n",
      "step: 400, current cost: 5.00029, W: 0.928172, b: -1.6516\n",
      "step: 500, current cost: 4.86263, W: 0.964964, b: -2.01609\n",
      "step: 600, current cost: 4.76634, W: 0.995641, b: -2.32002\n",
      "step: 700, current cost: 4.6989, W: 1.02122, b: -2.57345\n",
      "step: 800, current cost: 4.65162, W: 1.04255, b: -2.78477\n",
      "step: 900, current cost: 4.61841, W: 1.06034, b: -2.96096\n",
      "training cost: 4.59524, W: 1.07503, b: -3.10655\n"
     ]
    },
    {
     "data": {
      "image/png": "[encoded data removed]",
      "text/plain": [
       "<matplotlib.figure.Figure at 0x1055ed990>"
      ]
     },
     "metadata": {},
     "output_type": "display_data"
    }
   ],
   "source": [
    "init = tf.global_variables_initializer()\n",
    "\n",
    "sess = tf.Session()\n",
    "sess.run(init)\n",
    "\n",
    "for i in range(1000):\n",
    "    for (x, y) in data_frame:\n",
    "        sess.run(optimizer, feed_dict={X: x, Y: y})\n",
    "\n",
    "    if i % 100 == 0:\n",
    "        curr_cost = sess.run(cost, feed_dict={X: x_data, Y: y_data})\n",
    "        print(\"step: %d, current cost: %g, W: %g, b: %g\"%(i, curr_cost, sess.run(W)[0], sess.run(b)[0]))\n",
    "\n",
    "training_cost = sess.run(cost, feed_dict={X: x_data, Y: y_data})\n",
    "print(\"training cost: %g, W: %g, b: %g\"%(training_cost, sess.run(W)[0], sess.run(b)[0]))\n",
    "\n",
    "plt.plot(x_data, y_data, 'ro', label='Original data')\n",
    "plt.plot(x_data, sess.run(W) * x_data + sess.run(b), label='Fitted line')\n",
    "plt.legend()\n",
    "plt.show()"
   ]
  },
  {
   "cell_type": "code",
   "execution_count": 5,
   "metadata": {
    "collapsed": true
   },
   "outputs": [],
   "source": [
    "# https://www.cs.toronto.edu/~frossard/post/tensorflow/\n",
    "from sklearn import preprocessing\n",
    "\n",
    "data_file = 'ex1data2.txt'\n",
    "data_frame = np.genfromtxt(data_file, delimiter=',')\n",
    "\n",
    "scaled_data_frame = preprocessing.StandardScaler().fit_transform(data_frame)\n",
    "x_data = scaled_data_frame[:,[0,1]]\n",
    "y_data = scaled_data_frame[:,[2]]"
   ]
  },
  {
   "cell_type": "code",
   "execution_count": 6,
   "metadata": {
    "collapsed": true
   },
   "outputs": [],
   "source": [
    "X = tf.placeholder(\"float\", [None, 2])\n",
    "Y = tf.placeholder(\"float\", [None, 1])\n",
    "\n",
    "W = tf.Variable(tf.random_uniform([2, 1], -1.0, 1.0))\n",
    "b = tf.Variable(tf.random_uniform([1, 1], -1.0, 1.0))\n",
    "\n",
    "pred = tf.add(tf.matmul(X, W), b)\n",
    "cost = tf.reduce_mean(tf.pow(pred - Y, 2))\n",
    "optimizer = tf.train.GradientDescentOptimizer(0.01).minimize(cost)"
   ]
  },
  {
   "cell_type": "code",
   "execution_count": 19,
   "metadata": {},
   "outputs": [
    {
     "name": "stdout",
     "output_type": "stream",
     "text": [
      "step: 0 , current cost: 1.3265 , W: [[-0.2774770259857178], [0.9470615983009338]] , b: [[-0.10049716]]\n",
      "step: 1000 , current cost: 0.267055 , W: [[0.8846093416213989], [-0.053022194653749466]] , b: [[ -1.46488359e-08]]\n",
      "step: 2000 , current cost: 0.267055 , W: [[0.884763777256012], [-0.053177475929260254]] , b: [[ -1.48071155e-08]]\n",
      "step: 3000 , current cost: 0.267055 , W: [[0.884763777256012], [-0.053177475929260254]] , b: [[ -1.48814951e-08]]\n",
      "step: 4000 , current cost: 0.267055 , W: [[0.884763777256012], [-0.053177475929260254]] , b: [[ -1.49558730e-08]]\n",
      "step: 5000 , current cost: 0.267055 , W: [[0.884763777256012], [-0.053177475929260254]] , b: [[ -1.47694816e-08]]\n",
      "step: 6000 , current cost: 0.267055 , W: [[0.884763777256012], [-0.053177475929260254]] , b: [[ -1.48438613e-08]]\n",
      "step: 7000 , current cost: 0.267055 , W: [[0.884763777256012], [-0.053177475929260254]] , b: [[ -1.49182391e-08]]\n",
      "step: 8000 , current cost: 0.267055 , W: [[0.884763777256012], [-0.053177475929260254]] , b: [[ -1.49926187e-08]]\n",
      "step: 9000 , current cost: 0.267055 , W: [[0.884763777256012], [-0.053177475929260254]] , b: [[ -1.48062274e-08]]\n",
      "training cost: 0.267055 , W: [[0.884763777256012], [-0.053177475929260254]] , b: [[ -1.50203050e-08]]\n"
     ]
    }
   ],
   "source": [
    "init = tf.global_variables_initializer()\n",
    "\n",
    "sess = tf.Session()\n",
    "sess.run(init)\n",
    "\n",
    "for i in range(10000):\n",
    "    sess.run(optimizer, feed_dict={X: x_data, Y: y_data})\n",
    "\n",
    "    if i % 1000 == 0:    \n",
    "        curr_cost = sess.run(cost, feed_dict={X: x_data, Y: y_data})\n",
    "        print \"step:\", i, \", current cost:\", curr_cost, \", W:\", sess.run(W).tolist(), \", b:\", sess.run(b)\n",
    "\n",
    "training_cost = sess.run(cost, feed_dict={X: x_data, Y: y_data})\n",
    "print \"training cost:\", training_cost, \", W:\", sess.run(W).tolist(), \", b:\", sess.run(b)"
   ]
  },
  {
   "cell_type": "code",
   "execution_count": null,
   "metadata": {
    "collapsed": true
   },
   "outputs": [],
   "source": [
    "from mpl_toolkits.mplot3d import Axes3D\n",
    "\n",
    "#plt.plot(train_X, train_Y, 'ro', label='Original data')\n",
    "#plt.plot(train_X, sess.run(W) * train_X + sess.run(b), label='Fitted line')\n",
    "#plt.legend()\n",
    "#plt.show()"
   ]
  }
 ],
 "metadata": {
  "kernelspec": {
   "display_name": "Python 2",
   "language": "python",
   "name": "python2"
  },
  "language_info": {
   "codemirror_mode": {
    "name": "ipython",
    "version": 2
   },
   "file_extension": ".py",
   "mimetype": "text/x-python",
   "name": "python",
   "nbconvert_exporter": "python",
   "pygments_lexer": "ipython2",
   "version": "2.7.13"
  }
 },
 "nbformat": 4,
 "nbformat_minor": 2
}
