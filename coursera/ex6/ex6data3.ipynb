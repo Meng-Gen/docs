{
 "cells": [
  {
   "cell_type": "code",
   "execution_count": 1,
   "metadata": {},
   "outputs": [
    {
     "name": "stdout",
     "output_type": "stream",
     "text": [
      "INFO:tensorflow:Using default config.\n",
      "INFO:tensorflow:Using config: {'_model_dir': None, '_save_checkpoints_secs': 600, '_num_ps_replicas': 0, '_keep_checkpoint_max': 5, '_tf_random_seed': None, '_task_type': None, '_environment': 'local', '_is_chief': True, '_cluster_spec': <tensorflow.python.training.server_lib.ClusterSpec object at 0x1135d9550>, '_tf_config': gpu_options {\n",
      "  per_process_gpu_memory_fraction: 1\n",
      "}\n",
      ", '_num_worker_replicas': 0, '_task_id': 0, '_save_summary_steps': 100, '_save_checkpoints_steps': None, '_evaluation_master': '', '_keep_checkpoint_every_n_hours': 10000, '_master': ''}\n",
      "WARNING:tensorflow:Using temporary folder as model directory: /var/folders/_6/l1_h6_0n70dc5ffhsc79r89w0000gn/T/tmpOuztIx\n",
      "WARNING:tensorflow:tf.variable_op_scope(values, name, default_name) is deprecated, use tf.variable_scope(name, default_name, values)\n",
      "INFO:tensorflow:Created variable linear/bias_weight:0, with device=\n",
      "WARNING:tensorflow:From /Users/menggen/anaconda/envs/tensorflow/lib/python2.7/site-packages/tensorflow/contrib/learn/python/learn/estimators/head.py:1194: hinge_loss (from tensorflow.contrib.losses.python.losses.loss_ops) is deprecated and will be removed after 2016-12-30.\n",
      "Instructions for updating:\n",
      "Use tf.losses.hinge_loss instead. Note that the order of the predictions and labels arguments were changed.\n",
      "WARNING:tensorflow:From /Users/menggen/anaconda/envs/tensorflow/lib/python2.7/site-packages/tensorflow/contrib/learn/python/learn/estimators/head.py:615: scalar_summary (from tensorflow.python.ops.logging_ops) is deprecated and will be removed after 2016-11-30.\n",
      "Instructions for updating:\n",
      "Please switch to tf.summary.scalar. Note that tf.summary.scalar uses the node name instead of the tag. This means that TensorFlow will automatically de-duplicate summary names based on the scope they are created in. Also, passing a tensor or list of tags to a scalar summary op is no longer supported.\n",
      "INFO:tensorflow:Create CheckpointSaverHook.\n",
      "INFO:tensorflow:Saving checkpoints for 1 into /var/folders/_6/l1_h6_0n70dc5ffhsc79r89w0000gn/T/tmpOuztIx/model.ckpt.\n",
      "INFO:tensorflow:loss = 1.0, step = 1\n",
      "INFO:tensorflow:global_step/sec: 812.255\n",
      "INFO:tensorflow:loss = 0.317531, step = 101 (0.124 sec)\n",
      "INFO:tensorflow:global_step/sec: 927.886\n",
      "INFO:tensorflow:loss = 0.315796, step = 201 (0.108 sec)\n",
      "INFO:tensorflow:global_step/sec: 939.637\n",
      "INFO:tensorflow:loss = 0.315848, step = 301 (0.106 sec)\n",
      "INFO:tensorflow:global_step/sec: 927.843\n",
      "INFO:tensorflow:loss = 0.315848, step = 401 (0.108 sec)\n",
      "INFO:tensorflow:global_step/sec: 923.931\n",
      "INFO:tensorflow:loss = 0.315848, step = 501 (0.108 sec)\n",
      "INFO:tensorflow:global_step/sec: 933.96\n",
      "INFO:tensorflow:loss = 0.315848, step = 601 (0.107 sec)\n",
      "INFO:tensorflow:global_step/sec: 827.15\n",
      "INFO:tensorflow:loss = 0.315848, step = 701 (0.121 sec)\n",
      "INFO:tensorflow:global_step/sec: 824.098\n",
      "INFO:tensorflow:loss = 0.315848, step = 801 (0.122 sec)\n",
      "INFO:tensorflow:global_step/sec: 746.118\n",
      "INFO:tensorflow:loss = 0.315848, step = 901 (0.134 sec)\n",
      "INFO:tensorflow:Saving checkpoints for 1000 into /var/folders/_6/l1_h6_0n70dc5ffhsc79r89w0000gn/T/tmpOuztIx/model.ckpt.\n",
      "INFO:tensorflow:Loss for final step: 0.315848.\n",
      "WARNING:tensorflow:tf.variable_op_scope(values, name, default_name) is deprecated, use tf.variable_scope(name, default_name, values)\n",
      "INFO:tensorflow:Created variable linear/bias_weight:0, with device=\n",
      "WARNING:tensorflow:From /Users/menggen/anaconda/envs/tensorflow/lib/python2.7/site-packages/tensorflow/contrib/learn/python/learn/estimators/head.py:1194: hinge_loss (from tensorflow.contrib.losses.python.losses.loss_ops) is deprecated and will be removed after 2016-12-30.\n",
      "Instructions for updating:\n",
      "Use tf.losses.hinge_loss instead. Note that the order of the predictions and labels arguments were changed.\n",
      "WARNING:tensorflow:From /Users/menggen/anaconda/envs/tensorflow/lib/python2.7/site-packages/tensorflow/contrib/learn/python/learn/estimators/head.py:615: scalar_summary (from tensorflow.python.ops.logging_ops) is deprecated and will be removed after 2016-11-30.\n",
      "Instructions for updating:\n",
      "Please switch to tf.summary.scalar. Note that tf.summary.scalar uses the node name instead of the tag. This means that TensorFlow will automatically de-duplicate summary names based on the scope they are created in. Also, passing a tensor or list of tags to a scalar summary op is no longer supported.\n",
      "INFO:tensorflow:Starting evaluation at 2017-05-17-14:37:26\n",
      "INFO:tensorflow:Restoring parameters from /var/folders/_6/l1_h6_0n70dc5ffhsc79r89w0000gn/T/tmpOuztIx/model.ckpt-1000\n",
      "INFO:tensorflow:Evaluation [1/1]\n",
      "INFO:tensorflow:Finished evaluation at 2017-05-17-14:37:27\n",
      "INFO:tensorflow:Saving dict for global step 1000: accuracy = 0.900474, global_step = 1000, loss = 0.315848\n",
      "WARNING:tensorflow:Skipping summary for global_step, must be a float or np.float32.\n",
      "{'loss': 0.31584826, 'global_step': 1000, 'accuracy': 0.90047395}\n"
     ]
    }
   ],
   "source": [
    "# https://www.tensorflow.org/api_docs/python/tf/contrib/learn/SVM\n",
    "# kernels: A list of kernels for the SVM. Currently, no kernels are supported. \n",
    "# Reserved for future use for non-linear SVMs.\n",
    "\n",
    "import tensorflow as tf\n",
    "from scipy.io import loadmat\n",
    "\n",
    "matfile = loadmat('ex6data3.mat')\n",
    "\n",
    "def input_fn():\n",
    "    return {\n",
    "        'example_id': tf.constant([str(_) for _ in range(len(matfile['X']))]),\n",
    "        'feature': tf.constant(matfile['X']),\n",
    "    }, tf.constant(matfile['y'])\n",
    "\n",
    "feature = tf.contrib.layers.real_valued_column('feature')\n",
    "\n",
    "svm_classifier = tf.contrib.learn.SVM(feature_columns=[feature], \n",
    "                                      example_id_column='example_id',\n",
    "                                      l1_regularization=0.0,\n",
    "                                      l2_regularization=0.0)\n",
    "\n",
    "svm_classifier.fit(input_fn=input_fn, steps=1000)\n",
    "metrics = svm_classifier.evaluate(input_fn=input_fn, steps=1)\n",
    "\n",
    "print metrics"
   ]
  },
  {
   "cell_type": "code",
   "execution_count": null,
   "metadata": {
    "collapsed": true
   },
   "outputs": [],
   "source": []
  }
 ],
 "metadata": {
  "kernelspec": {
   "display_name": "Python 2",
   "language": "python",
   "name": "python2"
  },
  "language_info": {
   "codemirror_mode": {
    "name": "ipython",
    "version": 2
   },
   "file_extension": ".py",
   "mimetype": "text/x-python",
   "name": "python",
   "nbconvert_exporter": "python",
   "pygments_lexer": "ipython2",
   "version": "2.7.13"
  }
 },
 "nbformat": 4,
 "nbformat_minor": 2
}
